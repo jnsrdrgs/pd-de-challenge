{
 "cells": [
  {
   "cell_type": "code",
   "execution_count": null,
   "metadata": {},
   "outputs": [],
   "source": [
    "#!pip install pyspark\n",
    "#!pip install configparser"
   ]
  },
  {
   "cell_type": "code",
   "execution_count": 1,
   "metadata": {},
   "outputs": [],
   "source": [
    "import os\n",
    "import pyspark\n",
    "os.environ['PYSPARK_SUBMIT_ARGS'] = '--packages com.amazonaws:aws-java-sdk-pom:1.10.34,org.apache.hadoop:hadoop-aws:2.7.2 pyspark-shell'"
   ]
  },
  {
   "cell_type": "code",
   "execution_count": 2,
   "metadata": {},
   "outputs": [],
   "source": [
    "import configparser\n",
    "config = configparser.ConfigParser()\n",
    "#config.read(os.path.expanduser(\"~/.aws/credentials\"))\n",
    "#aws_profile='default'\n",
    "#access_id = config.get(aws_profile, \"aws_access_key_id\") \n",
    "#access_key = config.get(aws_profile, \"aws_secret_access_key\")"
   ]
  },
  {
   "cell_type": "code",
   "execution_count": 3,
   "metadata": {},
   "outputs": [],
   "source": [
    "from pyspark import SparkContext\n",
    "from pyspark.sql import SparkSession\n",
    "\n",
    "sc = SparkContext()\n",
    "spark = SparkSession.builder.master(\"local\").appName(\"exploratory\").getOrCreate()"
   ]
  },
  {
   "cell_type": "code",
   "execution_count": 4,
   "metadata": {},
   "outputs": [],
   "source": [
    "sc=spark.sparkContext\n",
    "#hadoop_conf=sc._jsc.hadoopConfiguration()\n",
    "#hadoop_conf.set(\"fs.s3n.impl\", \"org.apache.hadoop.fs.s3native.NativeS3FileSystem\")\n",
    "#hadoop_conf.set(\"fs.s3n.awsAccessKeyId\", access_id)\n",
    "#hadoop_conf.set(\"fs.s3n.awsSecretAccessKey\", access_key)"
   ]
  },
  {
   "cell_type": "code",
   "execution_count": 5,
   "metadata": {},
   "outputs": [],
   "source": [
    "filePath = \"./courses.json\"\n",
    "df = spark.read.json(filePath)"
   ]
  },
  {
   "cell_type": "code",
   "execution_count": 6,
   "metadata": {},
   "outputs": [
    {
     "name": "stdout",
     "output_type": "stream",
     "text": [
      "+-------+--------------------+\n",
      "|     Id|                Name|\n",
      "+-------+--------------------+\n",
      "|1199555| Engenharia Elétrica|\n",
      "|1199521|Economia / Ciênci...|\n",
      "|1199517|             Direito|\n",
      "|1199491| Ciências Ambientais|\n",
      "|1199573|  Engenharia Química|\n",
      "|1199553|Engenharia de Pro...|\n",
      "|1199536|Engenharia Ambiental|\n",
      "|1199725|             Química|\n",
      "|1199453|       Administração|\n",
      "|1199701|         Odontologia|\n",
      "|1199461|           Agronomia|\n",
      "|1199741|      Serviço Social|\n",
      "|1199532|Engenharia Aeroná...|\n",
      "|1199544|    Engenharia Civil|\n",
      "|1199724|Comunicação Socia...|\n",
      "|1199704|           Pedagogia|\n",
      "|1199699|            Nutrição|\n",
      "|6495411|      Gestão Pública|\n",
      "|1199687|            Medicina|\n",
      "|1199734|Relações Internac...|\n",
      "+-------+--------------------+\n",
      "only showing top 20 rows\n",
      "\n"
     ]
    }
   ],
   "source": [
    "df.show()"
   ]
  },
  {
   "cell_type": "code",
   "execution_count": 7,
   "metadata": {},
   "outputs": [
    {
     "data": {
      "text/plain": [
       "15000000"
      ]
     },
     "execution_count": 7,
     "metadata": {},
     "output_type": "execute_result"
    }
   ],
   "source": [
    "df.count()"
   ]
  },
  {
   "cell_type": "code",
   "execution_count": 8,
   "metadata": {},
   "outputs": [],
   "source": [
    "anonymous_not_null = df.filter(df[\"anonymous_id\"] != \"\")"
   ]
  },
  {
   "cell_type": "code",
   "execution_count": 9,
   "metadata": {},
   "outputs": [
    {
     "data": {
      "text/plain": [
       "14999959"
      ]
     },
     "execution_count": 9,
     "metadata": {},
     "output_type": "execute_result"
    }
   ],
   "source": [
    "anonymous_not_null.count()"
   ]
  },
  {
   "cell_type": "code",
   "execution_count": 10,
   "metadata": {},
   "outputs": [
    {
     "data": {
      "text/plain": [
       "0"
      ]
     },
     "execution_count": 10,
     "metadata": {},
     "output_type": "execute_result"
    }
   ],
   "source": [
    "df.filter(\"browser_family = ''\" or \"device_family = ''\" or \"os_family = ''\").count()"
   ]
  },
  {
   "cell_type": "code",
   "execution_count": 17,
   "metadata": {},
   "outputs": [
    {
     "name": "stdout",
     "output_type": "stream",
     "text": [
      "+--------------------+--------------+-------------+---------------------+----------------+---------+--------------------+\n",
      "|        anonymous_id|browser_family|device_family|device_sent_timestamp|            name|os_family|            ts_click|\n",
      "+--------------------+--------------+-------------+---------------------+----------------+---------+--------------------+\n",
      "|90cb72a1-e6be-439...|         Other|        Other|           1545677124| RankingRendered|    Other|1970-01-18 18:21:...|\n",
      "|75da4f56-c6ec-48a...|         Other|        Other|           1545677124|ShowcaseRendered|    Other|1970-01-18 18:21:...|\n",
      "|0310725C-4468-444...|         Other|        Other|           1550713100| RankingRendered|    Other|1970-01-18 19:45:...|\n",
      "|21ACF4C8-2861-41D...|         Other|        Other|           1552768774|  RankingClicked|    Other|1970-01-18 20:19:...|\n",
      "|21ACF4C8-2861-41D...|         Other|        Other|           1552768774| ListingRendered|    Other|1970-01-18 20:19:...|\n",
      "|E295D243-6E64-45D...|         Other|        Other|           1552929593| RankingRendered|    Other|1970-01-18 20:22:...|\n",
      "|BEAEE7DB-6F11-434...|         Other|        Other|           1553323118| RankingRendered|    Other|1970-01-18 20:28:...|\n",
      "|8675F206-B368-426...|         Other|        Other|           1553869387| RankingRendered|    Other|1970-01-18 20:37:...|\n",
      "|C1888E61-256C-470...|         Other|        Other|           1554114504|  RankingClicked|    Other|1970-01-18 20:41:...|\n",
      "|C1888E61-256C-470...|         Other|        Other|           1554114504| ListingRendered|    Other|1970-01-18 20:41:...|\n",
      "|C1888E61-256C-470...|         Other|        Other|           1554114504| ListingRendered|    Other|1970-01-18 20:41:...|\n",
      "|C1888E61-256C-470...|         Other|        Other|           1554114511|ShowcaseRendered|    Other|1970-01-18 20:41:...|\n",
      "|C1888E61-256C-470...|         Other|        Other|           1554114511|ShowcaseRendered|    Other|1970-01-18 20:41:...|\n",
      "|C1888E61-256C-470...|         Other|        Other|           1554114520|  RankingClicked|    Other|1970-01-18 20:41:...|\n",
      "|C1888E61-256C-470...|         Other|        Other|           1554114520| ListingRendered|    Other|1970-01-18 20:41:...|\n",
      "|C1888E61-256C-470...|         Other|        Other|           1554114520|  RankingClicked|    Other|1970-01-18 20:41:...|\n",
      "|C1888E61-256C-470...|         Other|        Other|           1554114520| ListingRendered|    Other|1970-01-18 20:41:...|\n",
      "|C1888E61-256C-470...|         Other|        Other|           1554114523|ShowcaseRendered|    Other|1970-01-18 20:41:...|\n",
      "|C1888E61-256C-470...|         Other|        Other|           1554114523|ShowcaseRendered|    Other|1970-01-18 20:41:...|\n",
      "|E858A543-58B6-4AC...|         Other|        Other|           1554345590| RankingRendered|    Other|1970-01-18 20:45:...|\n",
      "+--------------------+--------------+-------------+---------------------+----------------+---------+--------------------+\n",
      "only showing top 20 rows\n",
      "\n"
     ]
    }
   ],
   "source": [
    "from pyspark.sql.types import TimestampType\n",
    "from pyspark.sql.functions import from_unixtime\n",
    "import pyspark.sql.functions as f\n",
    "\n",
    "\n",
    "df = df.withColumn('ts_click', from_unixtime(df.device_sent_timestamp / 1000, \"yyyy-MM-dd HH:mm:ss:SSS\"))"
   ]
  },
  {
   "cell_type": "code",
   "execution_count": 19,
   "metadata": {},
   "outputs": [
    {
     "name": "stdout",
     "output_type": "stream",
     "text": [
      "root\n",
      " |-- anonymous_id: string (nullable = true)\n",
      " |-- browser_family: string (nullable = true)\n",
      " |-- device_family: string (nullable = true)\n",
      " |-- device_sent_timestamp: long (nullable = true)\n",
      " |-- name: string (nullable = true)\n",
      " |-- os_family: string (nullable = true)\n",
      " |-- ts_click: string (nullable = true)\n",
      "\n"
     ]
    }
   ],
   "source": [
    "df.printSchema()"
   ]
  },
  {
   "cell_type": "code",
   "execution_count": 20,
   "metadata": {},
   "outputs": [],
   "source": [
    "# Removing null anonymous_id, it doesn't make sense to count sessions into nonexistent keys/users.\n",
    "df = df.where(df.anonymous_id != '')"
   ]
  },
  {
   "cell_type": "code",
   "execution_count": 21,
   "metadata": {},
   "outputs": [
    {
     "name": "stdout",
     "output_type": "stream",
     "text": [
      "+--------------------+--------------+-------------+---------------------+--------------------+----------+-------+\n",
      "|        anonymous_id|browser_family|device_family|device_sent_timestamp|                name| os_family|session|\n",
      "+--------------------+--------------+-------------+---------------------+--------------------+----------+-------+\n",
      "|0002c21c-316b-4f1...| Mobile Safari|       iPhone|        1554812413440|     ListingRendered|       iOS|      1|\n",
      "|0002c21c-316b-4f1...| Mobile Safari|       iPhone|        1554812413517|    ShowcaseRendered|       iOS|      1|\n",
      "|0002c21c-316b-4f1...| Mobile Safari|       iPhone|        1554812413529|    ShowcaseRendered|       iOS|      1|\n",
      "|0002c21c-316b-4f1...| Mobile Safari|       iPhone|        1554812414110|            pageview|       iOS|      1|\n",
      "|0002c21c-316b-4f1...| Mobile Safari|       iPhone|        1554812414506|Visit Property De...|       iOS|      1|\n",
      "|00071d44-ddfa-4d4...|       Firefox|        Other|        1554847461485|            pageview|  Mac OS X|      1|\n",
      "|00071d44-ddfa-4d4...|       Firefox|        Other|        1554847461988|Visit Property De...|  Mac OS X|      1|\n",
      "|00d72d29-c0f5-448...|        Chrome|        Other|        1554824979073|            pageview|Windows 10|      1|\n",
      "|00d72d29-c0f5-448...|        Chrome|        Other|        1554824979095|Visit Property De...|Windows 10|      1|\n",
      "|00d72d29-c0f5-448...|        Chrome|        Other|        1554824980510|             Gallery|Windows 10|      1|\n",
      "|00d72d29-c0f5-448...|        Chrome|        Other|        1554825002244|Recommendation Cl...|Windows 10|      1|\n",
      "|00d72d29-c0f5-448...|        Chrome|        Other|        1554825047367|     ListingRendered|Windows 10|      1|\n",
      "|00d72d29-c0f5-448...|        Chrome|        Other|        1554825047534|    ShowcaseRendered|Windows 10|      1|\n",
      "|00d72d29-c0f5-448...|        Chrome|        Other|        1554825047537|    ShowcaseRendered|Windows 10|      1|\n",
      "|00d72d29-c0f5-448...|        Chrome|        Other|        1554825070233|     ShowcaseClicked|Windows 10|      1|\n",
      "|00fc0dff-7bf3-43c...| Mobile Safari|       iPhone|        1554848349249|     RankingRendered|       iOS|      1|\n",
      "|00fc0dff-7bf3-43c...| Mobile Safari|       iPhone|        1554848349917|            pageview|       iOS|      1|\n",
      "|00fc0dff-7bf3-43c...| Mobile Safari|       iPhone|        1554848350424|  Smart Banner Shown|       iOS|      1|\n",
      "|00fc0dff-7bf3-43c...| Mobile Safari|       iPhone|        1554848350438|    Ranking rendered|       iOS|      1|\n",
      "|00fc0dff-7bf3-43c...| Mobile Safari|       iPhone|        1554848350442|Visit Search Resu...|       iOS|      1|\n",
      "+--------------------+--------------+-------------+---------------------+--------------------+----------+-------+\n",
      "only showing top 20 rows\n",
      "\n"
     ]
    }
   ],
   "source": [
    "df.createOrReplaceTempView(\"df\")\n",
    "\n",
    "spark.sql(\"\"\"\n",
    "WITH click_series AS (\n",
    "    SELECT\n",
    "        df.*,\n",
    "        LAG(device_sent_timestamp) OVER(PARTITION BY anonymous_id ORDER BY device_sent_timestamp) AS click_next\n",
    "    FROM df\n",
    ")\n",
    "\n",
    "SELECT\n",
    "    cs.anonymous_id,\n",
    "    cs.browser_family,\n",
    "    cs.device_family,\n",
    "    cs.device_sent_timestamp,\n",
    "    cs.name,\n",
    "    cs.os_family,\n",
    "    SUM(CASE WHEN cs.device_sent_timestamp - cs.click_next < 30 * 60 * 1000 THEN 0 ELSE 1 END) \n",
    "        OVER(PARTITION BY cs.anonymous_id ORDER BY cs.click_next) AS session\n",
    "FROM click_series AS cs\"\"\").show()"
   ]
  },
  {
   "cell_type": "code",
   "execution_count": 22,
   "metadata": {},
   "outputs": [
    {
     "name": "stdout",
     "output_type": "stream",
     "text": [
      "+--------------------+--------------+-------------+---------------------+--------------------+----------+--------------------+-------------+-------+\n",
      "|        anonymous_id|browser_family|device_family|device_sent_timestamp|                name| os_family|            ts_click|   click_next|session|\n",
      "+--------------------+--------------+-------------+---------------------+--------------------+----------+--------------------+-------------+-------+\n",
      "|0002c21c-316b-4f1...| Mobile Safari|       iPhone|        1554812413440|     ListingRendered|       iOS|2019-04-09 09:20:...|         null|      0|\n",
      "|0002c21c-316b-4f1...| Mobile Safari|       iPhone|        1554812413517|    ShowcaseRendered|       iOS|2019-04-09 09:20:...|1554812413440|      1|\n",
      "|0002c21c-316b-4f1...| Mobile Safari|       iPhone|        1554812413529|    ShowcaseRendered|       iOS|2019-04-09 09:20:...|1554812413517|      2|\n",
      "|0002c21c-316b-4f1...| Mobile Safari|       iPhone|        1554812414110|            pageview|       iOS|2019-04-09 09:20:...|1554812413529|      3|\n",
      "|0002c21c-316b-4f1...| Mobile Safari|       iPhone|        1554812414506|Visit Property De...|       iOS|2019-04-09 09:20:...|1554812414110|      4|\n",
      "|00071d44-ddfa-4d4...|       Firefox|        Other|        1554847461485|            pageview|  Mac OS X|2019-04-09 19:04:...|         null|      0|\n",
      "|00071d44-ddfa-4d4...|       Firefox|        Other|        1554847461988|Visit Property De...|  Mac OS X|2019-04-09 19:04:...|1554847461485|      1|\n",
      "|00d72d29-c0f5-448...|        Chrome|        Other|        1554824979073|            pageview|Windows 10|2019-04-09 12:49:...|         null|      0|\n",
      "|00d72d29-c0f5-448...|        Chrome|        Other|        1554824979095|Visit Property De...|Windows 10|2019-04-09 12:49:...|1554824979073|      1|\n",
      "|00d72d29-c0f5-448...|        Chrome|        Other|        1554824980510|             Gallery|Windows 10|2019-04-09 12:49:...|1554824979095|      2|\n",
      "|00d72d29-c0f5-448...|        Chrome|        Other|        1554825002244|Recommendation Cl...|Windows 10|2019-04-09 12:50:...|1554824980510|      3|\n",
      "|00d72d29-c0f5-448...|        Chrome|        Other|        1554825047367|     ListingRendered|Windows 10|2019-04-09 12:50:...|1554825002244|      4|\n",
      "|00d72d29-c0f5-448...|        Chrome|        Other|        1554825047534|    ShowcaseRendered|Windows 10|2019-04-09 12:50:...|1554825047367|      5|\n",
      "|00d72d29-c0f5-448...|        Chrome|        Other|        1554825047537|    ShowcaseRendered|Windows 10|2019-04-09 12:50:...|1554825047534|      6|\n",
      "|00d72d29-c0f5-448...|        Chrome|        Other|        1554825070233|     ShowcaseClicked|Windows 10|2019-04-09 12:51:...|1554825047537|      7|\n",
      "|00fc0dff-7bf3-43c...| Mobile Safari|       iPhone|        1554848349249|     RankingRendered|       iOS|2019-04-09 19:19:...|         null|      0|\n",
      "|00fc0dff-7bf3-43c...| Mobile Safari|       iPhone|        1554848349917|            pageview|       iOS|2019-04-09 19:19:...|1554848349249|      1|\n",
      "|00fc0dff-7bf3-43c...| Mobile Safari|       iPhone|        1554848350424|  Smart Banner Shown|       iOS|2019-04-09 19:19:...|1554848349917|      2|\n",
      "|00fc0dff-7bf3-43c...| Mobile Safari|       iPhone|        1554848350438|    Ranking rendered|       iOS|2019-04-09 19:19:...|1554848350424|      3|\n",
      "|00fc0dff-7bf3-43c...| Mobile Safari|       iPhone|        1554848350442|Visit Search Resu...|       iOS|2019-04-09 19:19:...|1554848350438|      4|\n",
      "+--------------------+--------------+-------------+---------------------+--------------------+----------+--------------------+-------------+-------+\n",
      "only showing top 20 rows\n",
      "\n"
     ]
    }
   ],
   "source": [
    "from pyspark.sql.window import Window\n",
    "import pyspark.sql.functions as f\n",
    "\n",
    "df_lag = df.withColumn('click_next',\n",
    "                        f.lag(df.device_sent_timestamp)\n",
    "                                 .over(Window.partitionBy(\"anonymous_id\").orderBy(\"device_sent_timestamp\")))\n",
    "df_sessions = df_lag.withColumn('session',\n",
    "                        f.sum(f.when((df_lag.device_sent_timestamp - df_lag.click_next < 30 * 60 * 1000), 1).otherwise(0)) \\\n",
    "                                 .over(Window.partitionBy(\"anonymous_id\").orderBy(\"click_next\")))\n",
    "df_sessions.show()"
   ]
  },
  {
   "cell_type": "code",
   "execution_count": 23,
   "metadata": {},
   "outputs": [
    {
     "name": "stdout",
     "output_type": "stream",
     "text": [
      "+--------------------+---------------------+--------------------+-------+\n",
      "|        anonymous_id|device_sent_timestamp|            ts_click|session|\n",
      "+--------------------+---------------------+--------------------+-------+\n",
      "|00097a4b-a4d7-4db...|        1554877642520|2019-04-10 03:27:...|      2|\n",
      "|000C9C12-18B8-4A6...|        1554778843573|2019-04-09 00:00:...|      2|\n",
      "|000C9C12-18B8-4A6...|        1554778842104|2019-04-09 00:00:...|      2|\n",
      "|000C9C12-18B8-4A6...|        1554778811386|2019-04-09 00:00:...|      2|\n",
      "|000C9C12-18B8-4A6...|        1554778841216|2019-04-09 00:00:...|      2|\n",
      "|000C9C12-18B8-4A6...|        1554778780612|2019-04-08 23:59:...|      2|\n",
      "|000C9C12-18B8-4A6...|        1554778809686|2019-04-09 00:00:...|      2|\n",
      "|000C9C12-18B8-4A6...|        1554778810108|2019-04-09 00:00:...|      2|\n",
      "|000C9C12-18B8-4A6...|        1554778811897|2019-04-09 00:00:...|      2|\n",
      "|000C9C12-18B8-4A6...|        1554778841049|2019-04-09 00:00:...|      2|\n",
      "|000C9C12-18B8-4A6...|        1554778780203|2019-04-08 23:59:...|      2|\n",
      "|000C9C12-18B8-4A6...|        1554778780219|2019-04-08 23:59:...|      2|\n",
      "|000C9C12-18B8-4A6...|        1554778809508|2019-04-09 00:00:...|      2|\n",
      "|000C9C12-18B8-4A6...|        1554778809583|2019-04-09 00:00:...|      2|\n",
      "|000C9C12-18B8-4A6...|        1554778809853|2019-04-09 00:00:...|      2|\n",
      "|000C9C12-18B8-4A6...|        1554778809989|2019-04-09 00:00:...|      2|\n",
      "|000C9C12-18B8-4A6...|        1554778782909|2019-04-08 23:59:...|      2|\n",
      "|000C9C12-18B8-4A6...|        1554778811477|2019-04-09 00:00:...|      2|\n",
      "|000C9C12-18B8-4A6...|        1554778812092|2019-04-09 00:00:...|      2|\n",
      "|000C9C12-18B8-4A6...|        1554778839825|2019-04-09 00:00:...|      2|\n",
      "+--------------------+---------------------+--------------------+-------+\n",
      "only showing top 20 rows\n",
      "\n"
     ]
    }
   ],
   "source": [
    "spark.sql(\"\"\"\n",
    "WITH click_series AS (\n",
    "    SELECT\n",
    "        df.*,\n",
    "        LAG(device_sent_timestamp) OVER(PARTITION BY anonymous_id ORDER BY device_sent_timestamp) AS click_next\n",
    "    FROM df\n",
    "),\n",
    "base AS (\n",
    "SELECT\n",
    "    cs.anonymous_id,\n",
    "    cs.device_sent_timestamp,\n",
    "    cs.ts_click,\n",
    "    SUM(CASE WHEN cs.device_sent_timestamp - cs.click_next < 30 * 60 * 1000 THEN 0 ELSE 1 END) \n",
    "        OVER(PARTITION BY cs.anonymous_id ORDER BY cs.click_next) AS session\n",
    "FROM click_series AS cs\n",
    "WHERE ts_click IS NOT NULL)\n",
    "SELECT * FROM base WHERE session > 1\n",
    "ORDER BY 1\n",
    "\"\"\").show()"
   ]
  },
  {
   "cell_type": "code",
   "execution_count": 29,
   "metadata": {},
   "outputs": [],
   "source": [
    "df = spark.sql(\"\"\"\n",
    "WITH click_series AS (\n",
    "    SELECT\n",
    "        df.*,\n",
    "        LAG(device_sent_timestamp) OVER(PARTITION BY anonymous_id ORDER BY device_sent_timestamp) AS click_next\n",
    "    FROM df\n",
    ")\n",
    "\n",
    "SELECT\n",
    "    cs.anonymous_id,\n",
    "    cs.browser_family,\n",
    "    cs.device_family,\n",
    "    cs.os_family,\n",
    "    cs.name,\n",
    "    cs.device_sent_timestamp,\n",
    "    cs.ts_click,\n",
    "    SUM(CASE WHEN cs.device_sent_timestamp - cs.click_next < 30 * 60 * 1000 THEN 0 ELSE 1 END) \n",
    "        OVER(PARTITION BY cs.anonymous_id ORDER BY cs.click_next) AS session\n",
    "FROM click_series AS cs\"\"\")"
   ]
  },
  {
   "cell_type": "code",
   "execution_count": 38,
   "metadata": {},
   "outputs": [
    {
     "name": "stdout",
     "output_type": "stream",
     "text": [
      "+--------------------+------+\n",
      "|      browser_family| count|\n",
      "+--------------------+------+\n",
      "|       Chrome Mobile|215633|\n",
      "|              Chrome|175101|\n",
      "|       Mobile Safari| 57797|\n",
      "|               Other| 37480|\n",
      "|            Facebook| 16685|\n",
      "|             Firefox| 15709|\n",
      "|   Chrome Mobile iOS|  5440|\n",
      "|                Edge|  5080|\n",
      "|              Safari|  3317|\n",
      "|Mobile Safari UIW...|  2532|\n",
      "|                  IE|  2433|\n",
      "|               Opera|  1686|\n",
      "|      Firefox Mobile|   456|\n",
      "|           IE Mobile|   295|\n",
      "|         Edge Mobile|   142|\n",
      "|        Opera Mobile|   132|\n",
      "|            Chromium|   130|\n",
      "|         Firefox iOS|    88|\n",
      "|         FacebookBot|    60|\n",
      "|           Googlebot|    54|\n",
      "+--------------------+------+\n",
      "only showing top 20 rows\n",
      "\n"
     ]
    }
   ],
   "source": [
    "df.createOrReplaceTempView(\"df_clean\")\n",
    "spark.sql(\"\"\"\n",
    "WITH family_session AS (\n",
    "SELECT\n",
    "    browser_family,\n",
    "    session,\n",
    "    COUNT(DISTINCT anonymous_id) AS count\n",
    "FROM \n",
    "    df_clean\n",
    "GROUP BY 1, 2)\n",
    "SELECT\n",
    "    fs.browser_family,\n",
    "    SUM(fs.count) AS count\n",
    "FROM\n",
    "    family_session AS fs\n",
    "GROUP by browser_family\n",
    "ORDER BY 2 DESC\"\"\").show()"
   ]
  },
  {
   "cell_type": "code",
   "execution_count": 40,
   "metadata": {},
   "outputs": [],
   "source": [
    "def df_to_json(category_family):\n",
    "    \"\"\"\n",
    "    Creates a dataframe with the count of some category family, looking for the user (anonymous_id) and his session\n",
    "    \"\"\"\n",
    "#    df_count = df.groupBy(df[f\"{category_family}_family\", \"session\"]).count() \\\n",
    "#            .orderBy('count', ascending=False)\n",
    "    df_count = spark.sql(f\"\"\"\n",
    "                WITH family_session AS (\n",
    "                SELECT\n",
    "                    {category_family}_family,\n",
    "                    session,\n",
    "                    COUNT(DISTINCT anonymous_id) AS count\n",
    "                FROM \n",
    "                    df_clean\n",
    "                GROUP BY 1, 2)\n",
    "                SELECT\n",
    "                    fs.{category_family}_family,\n",
    "                    SUM(fs.count) AS count\n",
    "                FROM\n",
    "                    family_session AS fs\n",
    "                GROUP by 1\n",
    "                ORDER BY 2 DESC\"\"\")\n",
    "    df_count = df_count.toPandas()\n",
    "    category_dict = df_count.set_index(f\"{category_family}_family\").to_dict()['count']\n",
    "\n",
    "    import json\n",
    "    with open(f\"{category_family}_results.json\", \"w\") as f:\n",
    "        f.write(json.dumps(category_dict))"
   ]
  },
  {
   "cell_type": "code",
   "execution_count": 41,
   "metadata": {},
   "outputs": [],
   "source": [
    "df_to_json(\"browser\")\n",
    "df_to_json(\"device\")\n",
    "df_to_json(\"os\")"
   ]
  }
 ],
 "metadata": {
  "kernelspec": {
   "display_name": "Python 3",
   "language": "python",
   "name": "python3"
  },
  "language_info": {
   "codemirror_mode": {
    "name": "ipython",
    "version": 3
   },
   "file_extension": ".py",
   "mimetype": "text/x-python",
   "name": "python",
   "nbconvert_exporter": "python",
   "pygments_lexer": "ipython3",
   "version": "3.8.5"
  }
 },
 "nbformat": 4,
 "nbformat_minor": 4
}
