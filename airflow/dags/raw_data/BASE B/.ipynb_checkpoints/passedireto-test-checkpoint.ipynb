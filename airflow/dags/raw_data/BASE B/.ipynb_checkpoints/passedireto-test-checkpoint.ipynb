{
 "cells": [
  {
   "cell_type": "code",
   "execution_count": null,
   "metadata": {},
   "outputs": [],
   "source": [
    "#!pip install pyspark\n",
    "#!pip install configparser"
   ]
  },
  {
   "cell_type": "code",
   "execution_count": 1,
   "metadata": {},
   "outputs": [],
   "source": [
    "import os\n",
    "import pyspark\n",
    "os.environ['PYSPARK_SUBMIT_ARGS'] = '--packages com.amazonaws:aws-java-sdk-pom:1.10.34,org.apache.hadoop:hadoop-aws:2.7.2 pyspark-shell'"
   ]
  },
  {
   "cell_type": "code",
   "execution_count": 2,
   "metadata": {},
   "outputs": [],
   "source": [
    "import configparser\n",
    "config = configparser.ConfigParser()\n",
    "#config.read(os.path.expanduser(\"~/.aws/credentials\"))\n",
    "#aws_profile='default'\n",
    "#access_id = config.get(aws_profile, \"aws_access_key_id\") \n",
    "#access_key = config.get(aws_profile, \"aws_secret_access_key\")"
   ]
  },
  {
   "cell_type": "code",
   "execution_count": 3,
   "metadata": {},
   "outputs": [],
   "source": [
    "from pyspark import SparkContext\n",
    "from pyspark.sql import SparkSession\n",
    "\n",
    "sc = SparkContext()\n",
    "spark = SparkSession.builder.master(\"local\").appName(\"exploratory\").getOrCreate()"
   ]
  },
  {
   "cell_type": "code",
   "execution_count": 4,
   "metadata": {},
   "outputs": [],
   "source": [
    "sc=spark.sparkContext\n",
    "#hadoop_conf=sc._jsc.hadoopConfiguration()\n",
    "#hadoop_conf.set(\"fs.s3n.impl\", \"org.apache.hadoop.fs.s3native.NativeS3FileSystem\")\n",
    "#hadoop_conf.set(\"fs.s3n.awsAccessKeyId\", access_id)\n",
    "#hadoop_conf.set(\"fs.s3n.awsSecretAccessKey\", access_key)"
   ]
  },
  {
   "cell_type": "code",
   "execution_count": 6,
   "metadata": {},
   "outputs": [],
   "source": [
    "filePath = \"./*.json\"\n",
    "df = spark.read.json(filePath)"
   ]
  },
  {
   "cell_type": "code",
   "execution_count": 7,
   "metadata": {},
   "outputs": [
    {
     "name": "stdout",
     "output_type": "stream",
     "text": [
      "+--------------------+-------------+---------------+--------------------+---------------+--------------------+-------------------+----------------+--------------------+---------+---------+-------+-----------+--------------------+--------+-----------+----------+-------------------+--------------------+--------+-----------+------------------+----------------+----------------+------------+---------+---+-------+-----------+------+--------------------+--------------------+----+---------+--------------------+\n",
      "|   Last Accessed Url|Page Category|Page Category 1|     Page Category 2|Page Category 3|           Page Name|                 at|         browser|             carrier|city_name|clv_total|country|   custom_1|            custom_2|custom_3|   custom_4|device_new|first-accessed-page|        install_uuid|language|library_ver|marketing_campaign|marketing_medium|marketing_source|       model|     name|nth| os_ver|   platform|region|        session_uuid|studentId_clientType|type|user_type|                uuid|\n",
      "+--------------------+-------------+---------------+--------------------+---------------+--------------------+-------------------+----------------+--------------------+---------+---------+-------+-----------+--------------------+--------+-----------+----------+-------------------+--------------------+--------+-----------+------------------+----------------+----------------+------------+---------+---+-------+-----------+------+--------------------+--------------------+----+---------+--------------------+\n",
      "|                   /|       perfil|         perfil|           Undefined|      Undefined|/perfil/22482764/...|2017-11-16 02:10:20|       Chrome 62|Telemar Norte Les...|     null|     null|     br|ESTÁCIO EAD|           Pedagogia|    null|  Core User|     false|               null|fdfff303505f8a18b...|      pt|  web_3.3.3|              null|            null|            null|Linux armv7l|Page View| 17|       |      Linux|  null|188031bec37fc43b7...|34cbeaf4a28c798de...|   e|    known|1b3ed1360694ceae7...|\n",
      "|/disciplina/estud...|        busca|          busca|           Undefined|      Undefined|/busca?disciplina...|2017-11-16 02:10:26|      Firefox 56|Telefonica Brasil...|     null|     null|     br|       UNIP|Licenciatura em S...|    null|  Core User|     false|            arquivo|ccd96e9919795cb00...|      pt|  web_3.3.3|              null|            null|            null|       Win32|Page View| 19|       |  Windows 7|  null|e3fe75ffce700fef0...|23fa8b361cc7ea61d...|   e|    known|b0110b5beac39737f...|\n",
      "|      /ranking/curso|   disciplina|     disciplina|   marketing-pessoal|      Undefined|/disciplina/marke...|2017-11-16 02:10:22|       Chrome 61|    Tim Celular S.a.|     null|     null|     br|       UNIP|Gestão de Recurso...|    null|   New User|     false|            arquivo|8252dee2bbf13b099...|      pt|  web_3.3.3|              null|            null|            null|       Win32|Page View|  2|       |  Windows 7|  null|e0841700c23ea9aaa...|14cc805c72b0eec62...|   e|    known|bea05ad3a2fc2b621...|\n",
      "|                null|         home|           null|                null|           null|                   /|2017-11-16 02:10:34|Mobile Safari 10|Internexa Brasil ...|     null|     null|     br|    ESTÁCIO|             Direito|commerce|Casual User|     false|               null|aab84c9e00a9dfefc...|      pt|  web_3.3.3|              null|            null|            null|      iPhone|Page View|  2| 10.3.2|        iOS|  null|318775acadbb0c724...|98774aeb803eb08e0...|   e|    known|a8ee07ca847a31260...|\n",
      "|                null|   disciplina|     disciplina|        cinesiologia|      Undefined|/disciplina/cines...|2017-11-16 02:10:53|       Chrome 61|Hipernet Servico ...|     null|     null|     br|       UNIP|     Educação Física|    null|  Cold User|     false|               null|7ae4e9fb41f819caf...|      pt|  web_3.3.3|              null|            null|            null|       Win32|Page View| 11|       |Windows 8.1|  null|91bf1fbddb681569c...|122ac90aee4fc7366...|   e|    known|ad6d53dc93ec8d8c3...|\n",
      "|                null|   disciplina|     disciplina|     direito-penal-i|      Undefined|/disciplina/direi...|2017-11-16 02:10:44|       Chrome 58|Telefonica Brasil...|     null|     null|     br|    ESTÁCIO|             Direito|commerce|  Cold User|     false|            arquivo|a6c4809275a215b3e...|      pt|  web_3.3.3|              null|            null|            null|       Win32|Page View|  6|       |  Windows 7|  null|d52b6c4881b522975...|d799aecbb0a87cdd5...|   e|    known|23886a3fe7cb5853b...|\n",
      "|                null|   disciplina|     disciplina|            fisica-i|      Undefined|/disciplina/fisic...|2017-11-16 02:10:46|       Chrome 61|    Digital Net Ltda|     null|     null|     br|       UFES|Formação de Profe...|commerce|Casual User|     false|               null|cbeb1adb9774d0c18...|      pt|  web_3.3.3|              null|            null|            null|       Win32|Page View|  8|       |  Windows 7|  null|af9ab1ed319a1a8a6...|ca122c896b84fa32f...|   e|    known|eacbfbb3d1058820a...|\n",
      "|                null|   disciplina|     disciplina|introducao-ao-est...|      Undefined|/disciplina/intro...|2017-11-16 02:10:53|       Chrome 61|T-net Wireless E ...|     null|     null|     br|    ESTÁCIO|             Direito|commerce|  Core User|     false|               null|824e4c2669a0b294a...|      pt|  web_3.3.3|              null|            null|            null|       Win32|Page View|  8|       | Windows 10|  null|74c44cbf080da372d...|e1b0981e40fdef0c3...|   e|    known|7314139889cd861e8...|\n",
      "|                null|        busca|           null|                null|           null|              /busca|2017-11-16 02:10:54|Mobile Safari 11|        Claro Brazil|     null|     null|     br|       null|                null|    null|       null|      true|               null|0fccc0d77dbb95183...|      pt|  web_3.3.3|              null|            null|            null|      iPhone|Page View|  1| 11.1.1|        iOS|  null|0bf547c5ac802a0e0...|859fa6b0af443a290...|   e|    known|01d36048a25a15778...|\n",
      "|                null|         home|      Undefined|           Undefined|      Undefined|                   /|2017-11-16 02:11:03|         Edge 14|Quality Telecom S...|     null|     null|     br|       UFMT|Enfermagem e Obst...|    null|    unknown|     false|           pergunta|8bfff4d01464af327...|      pt|  web_3.3.3|              null|            null|            null|       Win32|Page View|  2|       | Windows 10|  null|943ba5d00ab9607eb...|344262de5df32d62c...|   e|    known|c70f886f19d653d2e...|\n",
      "|                null|   disciplina|     disciplina|inteligEncia-arti...|      Undefined|/disciplina/intel...|2017-11-16 02:11:53|       Chrome 61|Telemar Norte Les...|     null|     null|     br|    ESTÁCIO|       Administração|commerce|Casual User|     false|               null|e1f4d608110e234be...|      pt|  web_3.3.3|              null|            null|            null|       Win32|Page View| 27|       |  Windows 7|  null|e79a1f3f047ebb8e4...|249fc56e53f8e9218...|   e|    known|afdf234dc2d6af3e8...|\n",
      "|    /perfil/30069554|        lista|          lista|           Undefined|      Undefined|/lista/30069581/m...|2017-11-16 01:59:56|      Firefox 56|Saturno Comunicac...|     null|     null|     br|  PITÁGORAS| Engenharia Mecânica|commerce|  Core User|      true|               home|f1d7c585300bd78cd...|      pt|  web_3.3.3|              null|            null|            null|       Win64|Page View|  1|       |  Windows 7|  null|72cfe273a58f954f9...|dd16982f641501ad9...|   e|    known|bce240d15568240b6...|\n",
      "|                null|   disciplina|     disciplina|metodologia-cient...|      Undefined|/disciplina/metod...|2017-11-16 02:00:16|       Chrome 62|        Claro Brazil|     null|     1900|     br|    ESTÁCIO|             Direito|commerce|  Core User|     false|            arquivo|d827974494317936d...|      pt|  web_3.3.3|              null|            null|            null|       Win32|Page View| 80|       |  Windows 7|  null|ffdcc11a10bcc9489...|235399080e00a71d6...|   e|    known|60b8f1ba9efb063c3...|\n",
      "|/disciplina/conta...|        lista|          lista|           Undefined|      Undefined|     /lista/35439512|2017-11-16 02:00:17|       Chrome 61|Tiago Muniz Da Si...|     null|     null|     br|    ESTÁCIO|Contabilidade / C...|commerce|   New User|     false|            arquivo|b59a1a79543b409d7...|      pt|  web_3.3.3|              null|            null|            null|       Win32|Page View| 47|       | Windows 10|  null|ed965bcac88fad54b...|3b153bc5d007af5cd...|   e|    known|41ec7bbde83e0ba72...|\n",
      "|/disciplina/cienc...|       perfil|         perfil|           Undefined|      Undefined|/perfil/27052464/...|2017-11-16 02:00:16|       Chrome 61|Telemar Norte Les...|     null|     null|     br|       FAAT|             Direito|    null|Casual User|     false|               null|91b72d43d717b4a11...|      pt|  web_3.3.3|              null|            null|            null|       Win32|Page View| 13|       | Windows 10|  null|11a92cb247234ef8c...|194438a316498c383...|   e|    known|e964d6e0a202b27f9...|\n",
      "|    /cadastro/passo1|     cadastro|       cadastro|           Undefined|      Undefined|    /cadastro/passo2|2017-11-16 02:00:22|       Chrome 62|Telefonica Brasil...|     null|     null|     br|    unknown|             unknown|    null|    unknown|     false|            arquivo|bbbc1a313e74c0660...|      pt|  web_3.3.3|              null|            null|            null|       Win32|Page View|  3|       |  Windows 7|  null|bdba1aa54b7eccd61...|bd005da77055ace64...|   e|    known|78a978a2ec1d9ea66...|\n",
      "|/busca?disciplina...|     pergunta|       pergunta|           Undefined|      Undefined|/pergunta/1954101...|2017-11-16 02:00:29|       Chrome 61|Telefonica Brasil...|     null|     null|     br|    UNINOVE|            Medicina|    null|  Core User|     false|               null|20d6ac9d332932118...|      pt|  web_3.3.3|              null|            null|            null|       Win32|Page View| 69|       | Windows 10|  null|03c78e9f0944930b9...|d25a0cd2a0a7c68fd...|   e|    known|5ec5b31f5fdc66b56...|\n",
      "|/disciplina/organ...|       perfil|         perfil|           Undefined|      Undefined|/perfil/25389508/...|2017-11-16 02:14:39|       Chrome 51|Telemar Norte Les...|     null|     null|     br|    ESTÁCIO|           Logística|commerce|  Core User|      true|               home|de05e34602dd8dfd6...|      pt|  web_3.3.3|              null|            null|            null|       Win32|Page View|  1|       |  Windows 7|  null|4fd576c03ee8c3357...|7cedf443bd86dbc30...|   e|    known|ee50b15e51a2e111e...|\n",
      "|                null|   disciplina|     disciplina|        criminologia|      Undefined|/disciplina/crimi...|2017-11-16 02:14:50|       Chrome 61|Telemar Norte Les...|     null|     1900|     br|    ESTÁCIO|             Direito|commerce|  Cold User|     false|               home|8810daa388cd5304c...|      pt|  web_3.3.3|              null|            null|            null|       Win32|Page View| 97|       |  Windows 7|  null|547f44b389a314487...|46fc05e39f8946565...|   e|    known|161d00e68df2d8d37...|\n",
      "|                null|   disciplina|     disciplina|   concreto-armado-i|      Undefined|/disciplina/concr...|2017-11-16 02:15:09|       Chrome 61|Telefonica Brasil...|     null|     null|     br|     UNIFIL|Arquitetura e Urb...|commerce|Casual User|      true|            arquivo|ae35381f13d452664...|      pt|  web_3.3.3|              null|            null|            null|    MacIntel|Page View|  1|10.12.6|   Mac OS X|  null|599d273bb3fba56cf...|cc68b15d84a8e858b...|   e|    known|4a52741413ecae9fd...|\n",
      "+--------------------+-------------+---------------+--------------------+---------------+--------------------+-------------------+----------------+--------------------+---------+---------+-------+-----------+--------------------+--------+-----------+----------+-------------------+--------------------+--------+-----------+------------------+----------------+----------------+------------+---------+---+-------+-----------+------+--------------------+--------------------+----+---------+--------------------+\n",
      "only showing top 20 rows\n",
      "\n"
     ]
    }
   ],
   "source": [
    "df.show()"
   ]
  },
  {
   "cell_type": "code",
   "execution_count": null,
   "metadata": {},
   "outputs": [],
   "source": [
    "pd_df = df.toPandas()\n",
    "pd_df.show()"
   ]
  },
  {
   "cell_type": "code",
   "execution_count": null,
   "metadata": {},
   "outputs": [],
   "source": [
    "pdf_df.columns"
   ]
  },
  {
   "cell_type": "code",
   "execution_count": 7,
   "metadata": {},
   "outputs": [
    {
     "data": {
      "text/plain": [
       "15000000"
      ]
     },
     "execution_count": 7,
     "metadata": {},
     "output_type": "execute_result"
    }
   ],
   "source": [
    "df.count()"
   ]
  },
  {
   "cell_type": "code",
   "execution_count": 8,
   "metadata": {},
   "outputs": [],
   "source": [
    "anonymous_not_null = df.filter(df[\"anonymous_id\"] != \"\")"
   ]
  },
  {
   "cell_type": "code",
   "execution_count": 9,
   "metadata": {},
   "outputs": [
    {
     "data": {
      "text/plain": [
       "14999959"
      ]
     },
     "execution_count": 9,
     "metadata": {},
     "output_type": "execute_result"
    }
   ],
   "source": [
    "anonymous_not_null.count()"
   ]
  },
  {
   "cell_type": "code",
   "execution_count": 10,
   "metadata": {},
   "outputs": [
    {
     "data": {
      "text/plain": [
       "0"
      ]
     },
     "execution_count": 10,
     "metadata": {},
     "output_type": "execute_result"
    }
   ],
   "source": [
    "df.filter(\"browser_family = ''\" or \"device_family = ''\" or \"os_family = ''\").count()"
   ]
  },
  {
   "cell_type": "code",
   "execution_count": 17,
   "metadata": {},
   "outputs": [
    {
     "name": "stdout",
     "output_type": "stream",
     "text": [
      "+--------------------+--------------+-------------+---------------------+----------------+---------+--------------------+\n",
      "|        anonymous_id|browser_family|device_family|device_sent_timestamp|            name|os_family|            ts_click|\n",
      "+--------------------+--------------+-------------+---------------------+----------------+---------+--------------------+\n",
      "|90cb72a1-e6be-439...|         Other|        Other|           1545677124| RankingRendered|    Other|1970-01-18 18:21:...|\n",
      "|75da4f56-c6ec-48a...|         Other|        Other|           1545677124|ShowcaseRendered|    Other|1970-01-18 18:21:...|\n",
      "|0310725C-4468-444...|         Other|        Other|           1550713100| RankingRendered|    Other|1970-01-18 19:45:...|\n",
      "|21ACF4C8-2861-41D...|         Other|        Other|           1552768774|  RankingClicked|    Other|1970-01-18 20:19:...|\n",
      "|21ACF4C8-2861-41D...|         Other|        Other|           1552768774| ListingRendered|    Other|1970-01-18 20:19:...|\n",
      "|E295D243-6E64-45D...|         Other|        Other|           1552929593| RankingRendered|    Other|1970-01-18 20:22:...|\n",
      "|BEAEE7DB-6F11-434...|         Other|        Other|           1553323118| RankingRendered|    Other|1970-01-18 20:28:...|\n",
      "|8675F206-B368-426...|         Other|        Other|           1553869387| RankingRendered|    Other|1970-01-18 20:37:...|\n",
      "|C1888E61-256C-470...|         Other|        Other|           1554114504|  RankingClicked|    Other|1970-01-18 20:41:...|\n",
      "|C1888E61-256C-470...|         Other|        Other|           1554114504| ListingRendered|    Other|1970-01-18 20:41:...|\n",
      "|C1888E61-256C-470...|         Other|        Other|           1554114504| ListingRendered|    Other|1970-01-18 20:41:...|\n",
      "|C1888E61-256C-470...|         Other|        Other|           1554114511|ShowcaseRendered|    Other|1970-01-18 20:41:...|\n",
      "|C1888E61-256C-470...|         Other|        Other|           1554114511|ShowcaseRendered|    Other|1970-01-18 20:41:...|\n",
      "|C1888E61-256C-470...|         Other|        Other|           1554114520|  RankingClicked|    Other|1970-01-18 20:41:...|\n",
      "|C1888E61-256C-470...|         Other|        Other|           1554114520| ListingRendered|    Other|1970-01-18 20:41:...|\n",
      "|C1888E61-256C-470...|         Other|        Other|           1554114520|  RankingClicked|    Other|1970-01-18 20:41:...|\n",
      "|C1888E61-256C-470...|         Other|        Other|           1554114520| ListingRendered|    Other|1970-01-18 20:41:...|\n",
      "|C1888E61-256C-470...|         Other|        Other|           1554114523|ShowcaseRendered|    Other|1970-01-18 20:41:...|\n",
      "|C1888E61-256C-470...|         Other|        Other|           1554114523|ShowcaseRendered|    Other|1970-01-18 20:41:...|\n",
      "|E858A543-58B6-4AC...|         Other|        Other|           1554345590| RankingRendered|    Other|1970-01-18 20:45:...|\n",
      "+--------------------+--------------+-------------+---------------------+----------------+---------+--------------------+\n",
      "only showing top 20 rows\n",
      "\n"
     ]
    }
   ],
   "source": [
    "from pyspark.sql.types import TimestampType\n",
    "from pyspark.sql.functions import from_unixtime\n",
    "import pyspark.sql.functions as f\n",
    "\n",
    "\n",
    "df = df.withColumn('ts_click', from_unixtime(df.device_sent_timestamp / 1000, \"yyyy-MM-dd HH:mm:ss:SSS\"))"
   ]
  },
  {
   "cell_type": "code",
   "execution_count": 19,
   "metadata": {},
   "outputs": [
    {
     "name": "stdout",
     "output_type": "stream",
     "text": [
      "root\n",
      " |-- anonymous_id: string (nullable = true)\n",
      " |-- browser_family: string (nullable = true)\n",
      " |-- device_family: string (nullable = true)\n",
      " |-- device_sent_timestamp: long (nullable = true)\n",
      " |-- name: string (nullable = true)\n",
      " |-- os_family: string (nullable = true)\n",
      " |-- ts_click: string (nullable = true)\n",
      "\n"
     ]
    }
   ],
   "source": [
    "df.printSchema()"
   ]
  },
  {
   "cell_type": "code",
   "execution_count": 20,
   "metadata": {},
   "outputs": [],
   "source": [
    "# Removing null anonymous_id, it doesn't make sense to count sessions into nonexistent keys/users.\n",
    "df = df.where(df.anonymous_id != '')"
   ]
  },
  {
   "cell_type": "code",
   "execution_count": 21,
   "metadata": {},
   "outputs": [
    {
     "name": "stdout",
     "output_type": "stream",
     "text": [
      "+--------------------+--------------+-------------+---------------------+--------------------+----------+-------+\n",
      "|        anonymous_id|browser_family|device_family|device_sent_timestamp|                name| os_family|session|\n",
      "+--------------------+--------------+-------------+---------------------+--------------------+----------+-------+\n",
      "|0002c21c-316b-4f1...| Mobile Safari|       iPhone|        1554812413440|     ListingRendered|       iOS|      1|\n",
      "|0002c21c-316b-4f1...| Mobile Safari|       iPhone|        1554812413517|    ShowcaseRendered|       iOS|      1|\n",
      "|0002c21c-316b-4f1...| Mobile Safari|       iPhone|        1554812413529|    ShowcaseRendered|       iOS|      1|\n",
      "|0002c21c-316b-4f1...| Mobile Safari|       iPhone|        1554812414110|            pageview|       iOS|      1|\n",
      "|0002c21c-316b-4f1...| Mobile Safari|       iPhone|        1554812414506|Visit Property De...|       iOS|      1|\n",
      "|00071d44-ddfa-4d4...|       Firefox|        Other|        1554847461485|            pageview|  Mac OS X|      1|\n",
      "|00071d44-ddfa-4d4...|       Firefox|        Other|        1554847461988|Visit Property De...|  Mac OS X|      1|\n",
      "|00d72d29-c0f5-448...|        Chrome|        Other|        1554824979073|            pageview|Windows 10|      1|\n",
      "|00d72d29-c0f5-448...|        Chrome|        Other|        1554824979095|Visit Property De...|Windows 10|      1|\n",
      "|00d72d29-c0f5-448...|        Chrome|        Other|        1554824980510|             Gallery|Windows 10|      1|\n",
      "|00d72d29-c0f5-448...|        Chrome|        Other|        1554825002244|Recommendation Cl...|Windows 10|      1|\n",
      "|00d72d29-c0f5-448...|        Chrome|        Other|        1554825047367|     ListingRendered|Windows 10|      1|\n",
      "|00d72d29-c0f5-448...|        Chrome|        Other|        1554825047534|    ShowcaseRendered|Windows 10|      1|\n",
      "|00d72d29-c0f5-448...|        Chrome|        Other|        1554825047537|    ShowcaseRendered|Windows 10|      1|\n",
      "|00d72d29-c0f5-448...|        Chrome|        Other|        1554825070233|     ShowcaseClicked|Windows 10|      1|\n",
      "|00fc0dff-7bf3-43c...| Mobile Safari|       iPhone|        1554848349249|     RankingRendered|       iOS|      1|\n",
      "|00fc0dff-7bf3-43c...| Mobile Safari|       iPhone|        1554848349917|            pageview|       iOS|      1|\n",
      "|00fc0dff-7bf3-43c...| Mobile Safari|       iPhone|        1554848350424|  Smart Banner Shown|       iOS|      1|\n",
      "|00fc0dff-7bf3-43c...| Mobile Safari|       iPhone|        1554848350438|    Ranking rendered|       iOS|      1|\n",
      "|00fc0dff-7bf3-43c...| Mobile Safari|       iPhone|        1554848350442|Visit Search Resu...|       iOS|      1|\n",
      "+--------------------+--------------+-------------+---------------------+--------------------+----------+-------+\n",
      "only showing top 20 rows\n",
      "\n"
     ]
    }
   ],
   "source": [
    "df.createOrReplaceTempView(\"df\")\n",
    "\n",
    "spark.sql(\"\"\"\n",
    "WITH click_series AS (\n",
    "    SELECT\n",
    "        df.*,\n",
    "        LAG(device_sent_timestamp) OVER(PARTITION BY anonymous_id ORDER BY device_sent_timestamp) AS click_next\n",
    "    FROM df\n",
    ")\n",
    "\n",
    "SELECT\n",
    "    cs.anonymous_id,\n",
    "    cs.browser_family,\n",
    "    cs.device_family,\n",
    "    cs.device_sent_timestamp,\n",
    "    cs.name,\n",
    "    cs.os_family,\n",
    "    SUM(CASE WHEN cs.device_sent_timestamp - cs.click_next < 30 * 60 * 1000 THEN 0 ELSE 1 END) \n",
    "        OVER(PARTITION BY cs.anonymous_id ORDER BY cs.click_next) AS session\n",
    "FROM click_series AS cs\"\"\").show()"
   ]
  },
  {
   "cell_type": "code",
   "execution_count": 22,
   "metadata": {},
   "outputs": [
    {
     "name": "stdout",
     "output_type": "stream",
     "text": [
      "+--------------------+--------------+-------------+---------------------+--------------------+----------+--------------------+-------------+-------+\n",
      "|        anonymous_id|browser_family|device_family|device_sent_timestamp|                name| os_family|            ts_click|   click_next|session|\n",
      "+--------------------+--------------+-------------+---------------------+--------------------+----------+--------------------+-------------+-------+\n",
      "|0002c21c-316b-4f1...| Mobile Safari|       iPhone|        1554812413440|     ListingRendered|       iOS|2019-04-09 09:20:...|         null|      0|\n",
      "|0002c21c-316b-4f1...| Mobile Safari|       iPhone|        1554812413517|    ShowcaseRendered|       iOS|2019-04-09 09:20:...|1554812413440|      1|\n",
      "|0002c21c-316b-4f1...| Mobile Safari|       iPhone|        1554812413529|    ShowcaseRendered|       iOS|2019-04-09 09:20:...|1554812413517|      2|\n",
      "|0002c21c-316b-4f1...| Mobile Safari|       iPhone|        1554812414110|            pageview|       iOS|2019-04-09 09:20:...|1554812413529|      3|\n",
      "|0002c21c-316b-4f1...| Mobile Safari|       iPhone|        1554812414506|Visit Property De...|       iOS|2019-04-09 09:20:...|1554812414110|      4|\n",
      "|00071d44-ddfa-4d4...|       Firefox|        Other|        1554847461485|            pageview|  Mac OS X|2019-04-09 19:04:...|         null|      0|\n",
      "|00071d44-ddfa-4d4...|       Firefox|        Other|        1554847461988|Visit Property De...|  Mac OS X|2019-04-09 19:04:...|1554847461485|      1|\n",
      "|00d72d29-c0f5-448...|        Chrome|        Other|        1554824979073|            pageview|Windows 10|2019-04-09 12:49:...|         null|      0|\n",
      "|00d72d29-c0f5-448...|        Chrome|        Other|        1554824979095|Visit Property De...|Windows 10|2019-04-09 12:49:...|1554824979073|      1|\n",
      "|00d72d29-c0f5-448...|        Chrome|        Other|        1554824980510|             Gallery|Windows 10|2019-04-09 12:49:...|1554824979095|      2|\n",
      "|00d72d29-c0f5-448...|        Chrome|        Other|        1554825002244|Recommendation Cl...|Windows 10|2019-04-09 12:50:...|1554824980510|      3|\n",
      "|00d72d29-c0f5-448...|        Chrome|        Other|        1554825047367|     ListingRendered|Windows 10|2019-04-09 12:50:...|1554825002244|      4|\n",
      "|00d72d29-c0f5-448...|        Chrome|        Other|        1554825047534|    ShowcaseRendered|Windows 10|2019-04-09 12:50:...|1554825047367|      5|\n",
      "|00d72d29-c0f5-448...|        Chrome|        Other|        1554825047537|    ShowcaseRendered|Windows 10|2019-04-09 12:50:...|1554825047534|      6|\n",
      "|00d72d29-c0f5-448...|        Chrome|        Other|        1554825070233|     ShowcaseClicked|Windows 10|2019-04-09 12:51:...|1554825047537|      7|\n",
      "|00fc0dff-7bf3-43c...| Mobile Safari|       iPhone|        1554848349249|     RankingRendered|       iOS|2019-04-09 19:19:...|         null|      0|\n",
      "|00fc0dff-7bf3-43c...| Mobile Safari|       iPhone|        1554848349917|            pageview|       iOS|2019-04-09 19:19:...|1554848349249|      1|\n",
      "|00fc0dff-7bf3-43c...| Mobile Safari|       iPhone|        1554848350424|  Smart Banner Shown|       iOS|2019-04-09 19:19:...|1554848349917|      2|\n",
      "|00fc0dff-7bf3-43c...| Mobile Safari|       iPhone|        1554848350438|    Ranking rendered|       iOS|2019-04-09 19:19:...|1554848350424|      3|\n",
      "|00fc0dff-7bf3-43c...| Mobile Safari|       iPhone|        1554848350442|Visit Search Resu...|       iOS|2019-04-09 19:19:...|1554848350438|      4|\n",
      "+--------------------+--------------+-------------+---------------------+--------------------+----------+--------------------+-------------+-------+\n",
      "only showing top 20 rows\n",
      "\n"
     ]
    }
   ],
   "source": [
    "from pyspark.sql.window import Window\n",
    "import pyspark.sql.functions as f\n",
    "\n",
    "df_lag = df.withColumn('click_next',\n",
    "                        f.lag(df.device_sent_timestamp)\n",
    "                                 .over(Window.partitionBy(\"anonymous_id\").orderBy(\"device_sent_timestamp\")))\n",
    "df_sessions = df_lag.withColumn('session',\n",
    "                        f.sum(f.when((df_lag.device_sent_timestamp - df_lag.click_next < 30 * 60 * 1000), 1).otherwise(0)) \\\n",
    "                                 .over(Window.partitionBy(\"anonymous_id\").orderBy(\"click_next\")))\n",
    "df_sessions.show()"
   ]
  },
  {
   "cell_type": "code",
   "execution_count": 23,
   "metadata": {},
   "outputs": [
    {
     "name": "stdout",
     "output_type": "stream",
     "text": [
      "+--------------------+---------------------+--------------------+-------+\n",
      "|        anonymous_id|device_sent_timestamp|            ts_click|session|\n",
      "+--------------------+---------------------+--------------------+-------+\n",
      "|00097a4b-a4d7-4db...|        1554877642520|2019-04-10 03:27:...|      2|\n",
      "|000C9C12-18B8-4A6...|        1554778843573|2019-04-09 00:00:...|      2|\n",
      "|000C9C12-18B8-4A6...|        1554778842104|2019-04-09 00:00:...|      2|\n",
      "|000C9C12-18B8-4A6...|        1554778811386|2019-04-09 00:00:...|      2|\n",
      "|000C9C12-18B8-4A6...|        1554778841216|2019-04-09 00:00:...|      2|\n",
      "|000C9C12-18B8-4A6...|        1554778780612|2019-04-08 23:59:...|      2|\n",
      "|000C9C12-18B8-4A6...|        1554778809686|2019-04-09 00:00:...|      2|\n",
      "|000C9C12-18B8-4A6...|        1554778810108|2019-04-09 00:00:...|      2|\n",
      "|000C9C12-18B8-4A6...|        1554778811897|2019-04-09 00:00:...|      2|\n",
      "|000C9C12-18B8-4A6...|        1554778841049|2019-04-09 00:00:...|      2|\n",
      "|000C9C12-18B8-4A6...|        1554778780203|2019-04-08 23:59:...|      2|\n",
      "|000C9C12-18B8-4A6...|        1554778780219|2019-04-08 23:59:...|      2|\n",
      "|000C9C12-18B8-4A6...|        1554778809508|2019-04-09 00:00:...|      2|\n",
      "|000C9C12-18B8-4A6...|        1554778809583|2019-04-09 00:00:...|      2|\n",
      "|000C9C12-18B8-4A6...|        1554778809853|2019-04-09 00:00:...|      2|\n",
      "|000C9C12-18B8-4A6...|        1554778809989|2019-04-09 00:00:...|      2|\n",
      "|000C9C12-18B8-4A6...|        1554778782909|2019-04-08 23:59:...|      2|\n",
      "|000C9C12-18B8-4A6...|        1554778811477|2019-04-09 00:00:...|      2|\n",
      "|000C9C12-18B8-4A6...|        1554778812092|2019-04-09 00:00:...|      2|\n",
      "|000C9C12-18B8-4A6...|        1554778839825|2019-04-09 00:00:...|      2|\n",
      "+--------------------+---------------------+--------------------+-------+\n",
      "only showing top 20 rows\n",
      "\n"
     ]
    }
   ],
   "source": [
    "spark.sql(\"\"\"\n",
    "WITH click_series AS (\n",
    "    SELECT\n",
    "        df.*,\n",
    "        LAG(device_sent_timestamp) OVER(PARTITION BY anonymous_id ORDER BY device_sent_timestamp) AS click_next\n",
    "    FROM df\n",
    "),\n",
    "base AS (\n",
    "SELECT\n",
    "    cs.anonymous_id,\n",
    "    cs.device_sent_timestamp,\n",
    "    cs.ts_click,\n",
    "    SUM(CASE WHEN cs.device_sent_timestamp - cs.click_next < 30 * 60 * 1000 THEN 0 ELSE 1 END) \n",
    "        OVER(PARTITION BY cs.anonymous_id ORDER BY cs.click_next) AS session\n",
    "FROM click_series AS cs\n",
    "WHERE ts_click IS NOT NULL)\n",
    "SELECT * FROM base WHERE session > 1\n",
    "ORDER BY 1\n",
    "\"\"\").show()"
   ]
  },
  {
   "cell_type": "code",
   "execution_count": 29,
   "metadata": {},
   "outputs": [],
   "source": [
    "df = spark.sql(\"\"\"\n",
    "WITH click_series AS (\n",
    "    SELECT\n",
    "        df.*,\n",
    "        LAG(device_sent_timestamp) OVER(PARTITION BY anonymous_id ORDER BY device_sent_timestamp) AS click_next\n",
    "    FROM df\n",
    ")\n",
    "\n",
    "SELECT\n",
    "    cs.anonymous_id,\n",
    "    cs.browser_family,\n",
    "    cs.device_family,\n",
    "    cs.os_family,\n",
    "    cs.name,\n",
    "    cs.device_sent_timestamp,\n",
    "    cs.ts_click,\n",
    "    SUM(CASE WHEN cs.device_sent_timestamp - cs.click_next < 30 * 60 * 1000 THEN 0 ELSE 1 END) \n",
    "        OVER(PARTITION BY cs.anonymous_id ORDER BY cs.click_next) AS session\n",
    "FROM click_series AS cs\"\"\")"
   ]
  },
  {
   "cell_type": "code",
   "execution_count": 38,
   "metadata": {},
   "outputs": [
    {
     "name": "stdout",
     "output_type": "stream",
     "text": [
      "+--------------------+------+\n",
      "|      browser_family| count|\n",
      "+--------------------+------+\n",
      "|       Chrome Mobile|215633|\n",
      "|              Chrome|175101|\n",
      "|       Mobile Safari| 57797|\n",
      "|               Other| 37480|\n",
      "|            Facebook| 16685|\n",
      "|             Firefox| 15709|\n",
      "|   Chrome Mobile iOS|  5440|\n",
      "|                Edge|  5080|\n",
      "|              Safari|  3317|\n",
      "|Mobile Safari UIW...|  2532|\n",
      "|                  IE|  2433|\n",
      "|               Opera|  1686|\n",
      "|      Firefox Mobile|   456|\n",
      "|           IE Mobile|   295|\n",
      "|         Edge Mobile|   142|\n",
      "|        Opera Mobile|   132|\n",
      "|            Chromium|   130|\n",
      "|         Firefox iOS|    88|\n",
      "|         FacebookBot|    60|\n",
      "|           Googlebot|    54|\n",
      "+--------------------+------+\n",
      "only showing top 20 rows\n",
      "\n"
     ]
    }
   ],
   "source": [
    "df.createOrReplaceTempView(\"df_clean\")\n",
    "spark.sql(\"\"\"\n",
    "WITH family_session AS (\n",
    "SELECT\n",
    "    browser_family,\n",
    "    session,\n",
    "    COUNT(DISTINCT anonymous_id) AS count\n",
    "FROM \n",
    "    df_clean\n",
    "GROUP BY 1, 2)\n",
    "SELECT\n",
    "    fs.browser_family,\n",
    "    SUM(fs.count) AS count\n",
    "FROM\n",
    "    family_session AS fs\n",
    "GROUP by browser_family\n",
    "ORDER BY 2 DESC\"\"\").show()"
   ]
  },
  {
   "cell_type": "code",
   "execution_count": 40,
   "metadata": {},
   "outputs": [],
   "source": [
    "def df_to_json(category_family):\n",
    "    \"\"\"\n",
    "    Creates a dataframe with the count of some category family, looking for the user (anonymous_id) and his session\n",
    "    \"\"\"\n",
    "#    df_count = df.groupBy(df[f\"{category_family}_family\", \"session\"]).count() \\\n",
    "#            .orderBy('count', ascending=False)\n",
    "    df_count = spark.sql(f\"\"\"\n",
    "                WITH family_session AS (\n",
    "                SELECT\n",
    "                    {category_family}_family,\n",
    "                    session,\n",
    "                    COUNT(DISTINCT anonymous_id) AS count\n",
    "                FROM \n",
    "                    df_clean\n",
    "                GROUP BY 1, 2)\n",
    "                SELECT\n",
    "                    fs.{category_family}_family,\n",
    "                    SUM(fs.count) AS count\n",
    "                FROM\n",
    "                    family_session AS fs\n",
    "                GROUP by 1\n",
    "                ORDER BY 2 DESC\"\"\")\n",
    "    df_count = df_count.toPandas()\n",
    "    category_dict = df_count.set_index(f\"{category_family}_family\").to_dict()['count']\n",
    "\n",
    "    import json\n",
    "    with open(f\"{category_family}_results.json\", \"w\") as f:\n",
    "        f.write(json.dumps(category_dict))"
   ]
  },
  {
   "cell_type": "code",
   "execution_count": 41,
   "metadata": {},
   "outputs": [],
   "source": [
    "df_to_json(\"browser\")\n",
    "df_to_json(\"device\")\n",
    "df_to_json(\"os\")"
   ]
  }
 ],
 "metadata": {
  "kernelspec": {
   "display_name": "Python 3",
   "language": "python",
   "name": "python3"
  },
  "language_info": {
   "codemirror_mode": {
    "name": "ipython",
    "version": 3
   },
   "file_extension": ".py",
   "mimetype": "text/x-python",
   "name": "python",
   "nbconvert_exporter": "python",
   "pygments_lexer": "ipython3",
   "version": "3.8.5"
  }
 },
 "nbformat": 4,
 "nbformat_minor": 4
}
